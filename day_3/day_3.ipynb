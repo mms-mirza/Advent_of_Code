{
 "cells": [
  {
   "cell_type": "markdown",
   "metadata": {},
   "source": [
    "# Day 3"
   ]
  },
  {
   "cell_type": "markdown",
   "metadata": {},
   "source": [
    "### part 1"
   ]
  },
  {
   "cell_type": "markdown",
   "metadata": {},
   "source": [
    "--- Day 3: Gear Ratios ---\n",
    "You and the Elf eventually reach a gondola lift station; he says the gondola lift will take you up to the water source, but this is as far as he can bring you. You go inside.\n",
    "\n",
    "It doesn't take long to find the gondolas, but there seems to be a problem: they're not moving.\n",
    "\n",
    "\"Aaah!\"\n",
    "\n",
    "You turn around to see a slightly-greasy Elf with a wrench and a look of surprise. \"Sorry, I wasn't expecting anyone! The gondola lift isn't working right now; it'll still be a while before I can fix it.\" You offer to help.\n",
    "\n",
    "The engineer explains that an engine part seems to be missing from the engine, but nobody can figure out which one. If you can add up all the part numbers in the engine schematic, it should be easy to work out which part is missing.\n",
    "\n",
    "The engine schematic (your puzzle input) consists of a visual representation of the engine. There are lots of numbers and symbols you don't really understand, but apparently any number adjacent to a symbol, even diagonally, is a \"part number\" and should be included in your sum. (Periods (.) do not count as a symbol.)\n",
    "\n",
    "Here is an example engine schematic:\n",
    "\n",
    "467..114..\n",
    "...*......\n",
    "..35..633.\n",
    "......#...\n",
    "617*......\n",
    ".....+.58.\n",
    "..592.....\n",
    "......755.\n",
    "...$.*....\n",
    ".664.598..\n",
    "\n",
    "In this schematic, two numbers are not part numbers because they are not adjacent to a symbol: 114 (top right) and 58 (middle right). Every other number is adjacent to a symbol and so is a part number; their sum is 4361.\n",
    "\n",
    "Of course, the actual engine schematic is much larger. What is the sum of all of the part numbers in the engine schematic?"
   ]
  },
  {
   "cell_type": "code",
   "execution_count": 34,
   "metadata": {},
   "outputs": [],
   "source": [
    "import re"
   ]
  },
  {
   "cell_type": "code",
   "execution_count": 81,
   "metadata": {},
   "outputs": [],
   "source": [
    "# open file to work with puzzle input data\n",
    "with open('puzzleinput.text', 'r') as file:\n",
    "    # use regex to make all symbols the same\n",
    "    input = [re.sub(r'[^.\\d]', '*', line.strip()) for line in file]"
   ]
  },
  {
   "cell_type": "code",
   "execution_count": 82,
   "metadata": {},
   "outputs": [],
   "source": [
    "# pad each line with '.' in order to work with lines that start with a digit\n",
    "input = ['.' + row for row in input]"
   ]
  },
  {
   "cell_type": "code",
   "execution_count": 83,
   "metadata": {},
   "outputs": [
    {
     "data": {
      "text/plain": [
       "['...224.....487...................718.....................378............................................284........310......313..........311.',\n",
       " '.....*..............................*744....486*485......*......741......*...359.*666...439................*925....*......*..*........*......',\n",
       " '..235................758..440...........................251....*......262.....*..........*......................752......774.......515.......',\n",
       " '..........705*..*746........*..942*591.347.470...*..257.........637...........793.......299....*.....813....509......464......*.........688..',\n",
       " '......82................................*...*..901.....*..................836.....*............814...*........*..............80...17*....*...']"
      ]
     },
     "execution_count": 83,
     "metadata": {},
     "output_type": "execute_result"
    }
   ],
   "source": [
    "input[:5]"
   ]
  },
  {
   "cell_type": "code",
   "execution_count": 84,
   "metadata": {},
   "outputs": [],
   "source": [
    "# map digits to their coordinates\n",
    "digits_map = []\n",
    "# map symbols their coordinates\n",
    "symbols_map = []\n",
    "\n",
    "# iterate through input and append coordinates to the grid\n",
    "for index, row in enumerate(input):\n",
    "\n",
    "    # create a regex to match 1 digit or more\n",
    "    pattern = re.compile(r'(\\d+)')\n",
    "    # iterate through regex match\n",
    "    for star_match in pattern.finditer(row):\n",
    "        # append digit with row coordinate data\n",
    "        digits_map.append((int(star_match.group()), index, [(star_match.start(), star_match.end())]))\n",
    "    \n",
    "    # create a regex to only match symbols\n",
    "    pattern = re.compile(r'[^.\\d]')\n",
    "    # iterate through regex match\n",
    "    for symbol_match in pattern.finditer(row):\n",
    "        # append symbol with row coordinate data\n",
    "        symbols_map.append((symbol_match.group(), index, [symbol_match.start(), symbol_match.end()]))\n"
   ]
  },
  {
   "cell_type": "code",
   "execution_count": 86,
   "metadata": {},
   "outputs": [
    {
     "data": {
      "text/plain": [
       "[(224, 0, [(3, 6)]),\n",
       " (487, 0, [(11, 14)]),\n",
       " (718, 0, [(33, 36)]),\n",
       " (378, 0, [(57, 60)]),\n",
       " (284, 0, [(104, 107)])]"
      ]
     },
     "execution_count": 86,
     "metadata": {},
     "output_type": "execute_result"
    }
   ],
   "source": [
    "digits_map[:5]"
   ]
  },
  {
   "cell_type": "code",
   "execution_count": 88,
   "metadata": {},
   "outputs": [],
   "source": [
    "# find the part numbers\n",
    "part_numbers = []\n",
    "\n",
    "# iterate through digits data\n",
    "for num, d_index, d_rc in digits_map:\n",
    "    # get digit coordinate data\n",
    "    for start, end in d_rc:\n",
    "        # check row index, to apply correct indexing ranges when checking for symbols\n",
    "        if d_index == 0:\n",
    "            if '*' in input[d_index+1][start-1:end+1]:\n",
    "                part_numbers.append(num)\n",
    "            else:\n",
    "                continue\n",
    "        elif d_index == 139:\n",
    "            if '*' in input[d_index-1][start-1:end+1]:\n",
    "                part_numbers.append(num)\n",
    "            else:\n",
    "                continue\n",
    "        else:\n",
    "            if '*' in input[d_index][start-1:end+1]:\n",
    "                part_numbers.append(num)\n",
    "            elif '*' in input[d_index-1][start-1:end+1]:\n",
    "                part_numbers.append(num)\n",
    "            elif '*' in input[d_index+1][start-1:end+1]:\n",
    "                part_numbers.append(num)\n",
    "            else:\n",
    "                continue"
   ]
  },
  {
   "cell_type": "code",
   "execution_count": 89,
   "metadata": {},
   "outputs": [
    {
     "data": {
      "text/plain": [
       "539590"
      ]
     },
     "execution_count": 89,
     "metadata": {},
     "output_type": "execute_result"
    }
   ],
   "source": [
    "sum(part_numbers)"
   ]
  },
  {
   "cell_type": "markdown",
   "metadata": {},
   "source": [
    "### part 2"
   ]
  },
  {
   "cell_type": "markdown",
   "metadata": {},
   "source": [
    "--- Part Two ---\n",
    "The engineer finds the missing part and installs it in the engine! As the engine springs to life, you jump in the closest gondola, finally ready to ascend to the water source.\n",
    "\n",
    "You don't seem to be going very fast, though. Maybe something is still wrong? Fortunately, the gondola has a phone labeled \"help\", so you pick it up and the engineer answers.\n",
    "\n",
    "Before you can explain the situation, she suggests that you look out the window. There stands the engineer, holding a phone in one hand and waving with the other. You're going so slowly that you haven't even left the station. You exit the gondola.\n",
    "\n",
    "The missing part wasn't the only issue - one of the gears in the engine is wrong. A gear is any * symbol that is adjacent to exactly two part numbers. Its gear ratio is the result of multiplying those two numbers together.\n",
    "\n",
    "This time, you need to find the gear ratio of every gear and add them all up so that the engineer can figure out which gear needs to be replaced.\n",
    "\n",
    "Consider the same engine schematic again:\n",
    "\n",
    "467..114..\n",
    "...*......\n",
    "..35..633.\n",
    "......#...\n",
    "617*......\n",
    ".....+.58.\n",
    "..592.....\n",
    "......755.\n",
    "...$.*....\n",
    ".664.598..\n",
    "\n",
    "In this schematic, there are two gears. The first is in the top left; it has part numbers 467 and 35, so its gear ratio is 16345. The second gear is in the lower right; its gear ratio is 451490. (The * adjacent to 617 is not a gear because it is only adjacent to one part number.) Adding up all of the gear ratios produces 467835.\n",
    "\n",
    "What is the sum of all of the gear ratios in your engine schematic?"
   ]
  },
  {
   "cell_type": "code",
   "execution_count": 3,
   "metadata": {},
   "outputs": [],
   "source": [
    "# work with raw puzzledata to reset symbols\n",
    "with open('puzzleinput.text', 'r') as file:\n",
    "    # create a list and pad each row with '.' as before\n",
    "    input = ['.' + line.strip() for line in file]"
   ]
  },
  {
   "cell_type": "code",
   "execution_count": 29,
   "metadata": {},
   "outputs": [],
   "source": [
    "sample = '''467..114..\n",
    "...*......\n",
    "..35..633.\n",
    "......#...\n",
    "617*......\n",
    ".....+.58.\n",
    "..592.....\n",
    "......755.\n",
    "...$.*....\n",
    ".664.598..'''"
   ]
  },
  {
   "cell_type": "code",
   "execution_count": 30,
   "metadata": {},
   "outputs": [],
   "source": [
    "input = sample.split('\\n')"
   ]
  },
  {
   "cell_type": "code",
   "execution_count": 31,
   "metadata": {},
   "outputs": [],
   "source": [
    "input = ['...' + line for line in input]"
   ]
  },
  {
   "cell_type": "code",
   "execution_count": 32,
   "metadata": {},
   "outputs": [
    {
     "data": {
      "text/plain": [
       "['...467..114..',\n",
       " '......*......',\n",
       " '.....35..633.',\n",
       " '.........#...',\n",
       " '...617*......',\n",
       " '........+.58.',\n",
       " '.....592.....',\n",
       " '.........755.',\n",
       " '......$.*....',\n",
       " '....664.598..']"
      ]
     },
     "execution_count": 32,
     "metadata": {},
     "output_type": "execute_result"
    }
   ],
   "source": [
    "input"
   ]
  },
  {
   "cell_type": "code",
   "execution_count": 39,
   "metadata": {},
   "outputs": [],
   "source": [
    "# map stars to their coordinates\n",
    "star_map = []\n",
    "\n",
    "# iterate through input values and respective indices\n",
    "for index, row in enumerate(input):\n",
    "\n",
    "    # create a regex to match star symbol\n",
    "    pattern = re.compile(r'([*])')\n",
    "    # iterate through regex match\n",
    "    for star_match in pattern.finditer(row):\n",
    "        # append star with row coordinate data\n",
    "        star_map.append((index, [(star_match.start(), star_match.end())]))"
   ]
  },
  {
   "cell_type": "code",
   "execution_count": 40,
   "metadata": {},
   "outputs": [
    {
     "data": {
      "text/plain": [
       "[(1, [(6, 7)]), (4, [(6, 7)]), (8, [(8, 9)])]"
      ]
     },
     "execution_count": 40,
     "metadata": {},
     "output_type": "execute_result"
    }
   ],
   "source": [
    "star_map"
   ]
  },
  {
   "cell_type": "code",
   "execution_count": 38,
   "metadata": {},
   "outputs": [
    {
     "data": {
      "text/plain": [
       "['...467..114..',\n",
       " '......*......',\n",
       " '.....35..633.',\n",
       " '.........#...',\n",
       " '...617*......',\n",
       " '........+.58.',\n",
       " '.....592.....',\n",
       " '.........755.',\n",
       " '......$.*....',\n",
       " '....664.598..']"
      ]
     },
     "execution_count": 38,
     "metadata": {},
     "output_type": "execute_result"
    }
   ],
   "source": [
    "input"
   ]
  },
  {
   "cell_type": "code",
   "execution_count": null,
   "metadata": {},
   "outputs": [],
   "source": [
    "# find the part numbers\n",
    "gear_ratios = []\n",
    "\n",
    "# create regex to match adjacent digits\n",
    "pattern_l = re.compile(r'\\d+(?=[*])')\n",
    "pattern_r = re.compile(r'(?<=[*])\\d+')\n",
    "pattern_d = re.compile(r'\\d+')\n",
    "\n",
    "# iterate through star symbol coordinates\n",
    "for index, s_rc in star_map:\n",
    "    # get digit coordinate data\n",
    "    for start, end in s_rc:\n",
    "        # store adjacent digit for gear ratio calculation\n",
    "        adjacent_match = []\n",
    "\n",
    "        # Same row check\n",
    "        ## check for adjacent digits to left of '*'   \n",
    "        if pattern_l.findall(input[index]):\n",
    "            adjacent_match.append(pattern_l.findall(input[index])[0])\n",
    "            # check for adjacent digits to the right\n",
    "            if pattern_r.findall(input[index]):\n",
    "                adjacent_match.append(pattern_r.findall(input[index])[0])\n",
    "                gear_ratios.append(adjacent_match[0]*adjacent_match[-1])\n",
    "                continue\n",
    "            \n",
    "            # check for digits adjacent digits below\n",
    "            elif pattern_d.findall(input[index+1][start-1:end+1]):\n",
    "                \n",
    "\n",
    "\n",
    "\n",
    "        # check for adjavcent digits to right of '*'    \n",
    "        elif pattern_r.findall(input[index]):\n",
    "\n",
    "\n",
    "            \n",
    "\n",
    "            part_numbers.append(num)\n",
    "        elif '*' in input[d_index-1][start-1:end+1]:\n",
    "            part_numbers.append(num)\n",
    "        elif '*' in input[d_index+1][start-1:end+1]:\n",
    "            part_numbers.append(num)\n",
    "        else:\n",
    "            continue"
   ]
  },
  {
   "cell_type": "code",
   "execution_count": 72,
   "metadata": {},
   "outputs": [
    {
     "name": "stdout",
     "output_type": "stream",
     "text": [
      "...123*.123...\n",
      "hello\n",
      "123\n",
      "[]\n"
     ]
    }
   ],
   "source": [
    "test_num = '...123*.123...'\n",
    "\n",
    "print(test_num)\n",
    "# (?<=[*])\\d+ \n",
    "# \\d+(?=[*])\n",
    "pattern_l = re.compile(r'\\d+(?=[*])')\n",
    "pattern_r = re.compile(r'(?<=[*])\\d+')\n",
    "\n",
    "if pattern_l.findall(test_num) or pattern_r.findall(test_num):\n",
    "    print('hello')\n",
    "\n",
    "print(pattern_l.findall(test_num)[0])\n",
    "print(pattern_r.findall(test_num))"
   ]
  }
 ],
 "metadata": {
  "kernelspec": {
   "display_name": "base",
   "language": "python",
   "name": "python3"
  },
  "language_info": {
   "codemirror_mode": {
    "name": "ipython",
    "version": 3
   },
   "file_extension": ".py",
   "mimetype": "text/x-python",
   "name": "python",
   "nbconvert_exporter": "python",
   "pygments_lexer": "ipython3",
   "version": "3.10.9"
  }
 },
 "nbformat": 4,
 "nbformat_minor": 2
}
