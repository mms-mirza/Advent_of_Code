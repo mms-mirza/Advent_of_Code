{
 "cells": [
  {
   "cell_type": "markdown",
   "metadata": {},
   "source": [
    "## Day 1"
   ]
  },
  {
   "cell_type": "markdown",
   "metadata": {},
   "source": [
    "## part 1"
   ]
  },
  {
   "cell_type": "markdown",
   "metadata": {},
   "source": [
    "--- Day 1: Trebuchet?! ---\n",
    "Something is wrong with global snow production, and you've been selected to take a look. The Elves have even given you a map; on it, they've used stars to mark the top fifty locations that are likely to be having problems.\n",
    "\n",
    "You've been doing this long enough to know that to restore snow operations, you need to check all fifty stars by December 25th.\n",
    "\n",
    "Collect stars by solving puzzles. Two puzzles will be made available on each day in the Advent calendar; the second puzzle is unlocked when you complete the first. Each puzzle grants one star. Good luck!\n",
    "\n",
    "You try to ask why they can't just use a weather machine (\"not powerful enough\") and where they're even sending you (\"the sky\") and why your map looks mostly blank (\"you sure ask a lot of questions\") and hang on did you just say the sky (\"of course, where do you think snow comes from\") when you realize that the Elves are already loading you into a trebuchet (\"please hold still, we need to strap you in\").\n",
    "\n",
    "As they're making the final adjustments, they discover that their calibration document (your puzzle input) has been amended by a very young Elf who was apparently just excited to show off her art skills. Consequently, the Elves are having trouble reading the values on the document.\n",
    "\n",
    "The newly-improved calibration document consists of lines of text; each line originally contained a specific calibration value that the Elves now need to recover. On each line, the calibration value can be found by combining the first digit and the last digit (in that order) to form a single two-digit number.\n",
    "\n",
    "For example:\n",
    "\n",
    "1abc2\n",
    "pqr3stu8vwx\n",
    "a1b2c3d4e5f\n",
    "treb7uchet\n",
    "\n",
    "In this example, the calibration values of these four lines are 12, 38, 15, and 77. Adding these together produces 142.\n",
    "\n",
    "Consider your entire calibration document. What is the sum of all of the calibration values?"
   ]
  },
  {
   "cell_type": "code",
   "execution_count": 1,
   "metadata": {},
   "outputs": [],
   "source": [
    "# open file to work with puzzle input data\n",
    "with open('puzzleinput.text', 'r') as file:\n",
    "    inputs = [line.strip() for line in file]"
   ]
  },
  {
   "cell_type": "code",
   "execution_count": 2,
   "metadata": {},
   "outputs": [
    {
     "data": {
      "text/plain": [
       "['eightqrssm9httwogqshfxninepnfrppfzhsc',\n",
       " 'one111jxlmc7tvklrmhdpsix',\n",
       " 'bptwone4sixzzppg',\n",
       " 'ninezfzseveneight5kjrjvtfjqt5nineone',\n",
       " '58kk']"
      ]
     },
     "execution_count": 2,
     "metadata": {},
     "output_type": "execute_result"
    }
   ],
   "source": [
    "# check first 5 entries\n",
    "inputs[:5]"
   ]
  },
  {
   "cell_type": "code",
   "execution_count": 3,
   "metadata": {},
   "outputs": [
    {
     "data": {
      "text/plain": [
       "54159"
      ]
     },
     "execution_count": 3,
     "metadata": {},
     "output_type": "execute_result"
    }
   ],
   "source": [
    "# store calibration values from each code as integers\n",
    "calibration_values = []\n",
    "\n",
    "# iterate through each code in puzzle input\n",
    "for code in inputs:\n",
    "    # store all digits found in code\n",
    "    n = []\n",
    "    \n",
    "    # iterate through each character in the code\n",
    "    for char in code:\n",
    "        # check if the character is a digit\n",
    "        if char.isdigit():\n",
    "            n.append(char) # append to list of digits\n",
    "        else:\n",
    "            continue\n",
    "\n",
    "    # append respective calibration values extracted from code       \n",
    "    calibration_values.append(int(n[0]+n[-1]))\n",
    "  \n",
    "# calculate the sum of all calibration values\n",
    "sum(calibration_values)"
   ]
  },
  {
   "cell_type": "markdown",
   "metadata": {},
   "source": [
    "### part 2"
   ]
  },
  {
   "cell_type": "markdown",
   "metadata": {},
   "source": [
    "--- Part Two ---\n",
    "Your calculation isn't quite right. It looks like some of the digits are actually spelled out with letters: one, two, three, four, five, six, seven, eight, and nine also count as valid \"digits\".\n",
    "\n",
    "Equipped with this new information, you now need to find the real first and last digit on each line. For example:\n",
    "\n",
    "two1nine\n",
    "eightwothree\n",
    "abcone2threexyz\n",
    "xtwone3four\n",
    "4nineeightseven2\n",
    "zoneight234\n",
    "7pqrstsixteen\n",
    "\n",
    "In this example, the calibration values are 29, 83, 13, 24, 42, 14, and 76. Adding these together produces 281.\n",
    "\n",
    "What is the sum of all of the calibration values?"
   ]
  },
  {
   "cell_type": "code",
   "execution_count": 4,
   "metadata": {},
   "outputs": [
    {
     "data": {
      "text/plain": [
       "53866"
      ]
     },
     "execution_count": 4,
     "metadata": {},
     "output_type": "execute_result"
    }
   ],
   "source": [
    "# create dictionary to store digits\n",
    "digits = {'one': '1',\n",
    "          'two': '2',\n",
    "          'three': '3',\n",
    "          'four': '4',\n",
    "          'five': '5',\n",
    "          'six': '6',\n",
    "          'seven': '7',\n",
    "          'eight': '8',\n",
    "          'nine': '9'}\n",
    "\n",
    "# store calibration values extracted from each code as integers\n",
    "calibration_values = []\n",
    "\n",
    "# iterate through each code in puzzle input\n",
    "for code in inputs:\n",
    "\n",
    "    # store all digits and their indexes found in each code\n",
    "    n = []\n",
    "\n",
    "    # iterate through digits dictionary to find any matches in each code\n",
    "    for key, value in digits.items():\n",
    "        if key in code:\n",
    "            n.append([code.find(key), key]) # find first occurrence of alpha digit\n",
    "            n.append([code.rfind(key), key]) # find last occurrence of alpha digit\n",
    "        if value in code:\n",
    "            n.append([code.find(value), value]) # find first occurrence of num digit\n",
    "            n.append([code.rfind(value), value]) # find last occurrence of num digit\n",
    "        else:\n",
    "            continue \n",
    "\n",
    "    # sort list of digits by indexes, to find first and last digits     \n",
    "    n.sort(key=lambda x: x[0])\n",
    "\n",
    "    # convert alpha digits to num digits\n",
    "    if n[0][1].isalpha():\n",
    "       n[0][1] = digits[n[0][1]]\n",
    "    if n[-1][1].isalpha():\n",
    "        n[-1][1] = digits[n[-1][1]]\n",
    "    \n",
    "    # append respective calibration values extracted from code\n",
    "    calibration_values.append(int(n[0][1] + n[-1][1]))\n",
    "    \n",
    "# calculate the sum of all calibration values\n",
    "sum(calibration_values)"
   ]
  }
 ],
 "metadata": {
  "kernelspec": {
   "display_name": "base",
   "language": "python",
   "name": "python3"
  },
  "language_info": {
   "codemirror_mode": {
    "name": "ipython",
    "version": 3
   },
   "file_extension": ".py",
   "mimetype": "text/x-python",
   "name": "python",
   "nbconvert_exporter": "python",
   "pygments_lexer": "ipython3",
   "version": "3.10.9"
  }
 },
 "nbformat": 4,
 "nbformat_minor": 2
}
